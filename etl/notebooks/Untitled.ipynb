{
 "cells": [
  {
   "cell_type": "code",
   "execution_count": 1,
   "metadata": {
    "collapsed": true
   },
   "outputs": [],
   "source": [
    "import pandas as pd\n",
    "import numpy as np\n",
    "import os\n",
    "from ddf_utils.str import to_concept_id\n",
    "#from ddf_utils.index import create_index_file"
   ]
  },
  {
   "cell_type": "code",
   "execution_count": 2,
   "metadata": {
    "collapsed": true
   },
   "outputs": [],
   "source": [
    "# Directories\n",
    "out_dir = os.path.join(os.pardir, os.pardir,\"ddf--sodertornsmodellen--src\")\n",
    "src = os.path.join(os.pardir, \"source\")\n",
    "\n",
    "# Raw data\n",
    "entities_file_1 = os.path.join(src, \"161115 A7 utan formler.xlsx\") # Basomrande from Statistics Sweden\n",
    "entities_file_2 = os.path.join(src, \"kommunlankod.xls\") # Municipalities from Statistics Sweden\n",
    "datapoints_file = os.path.join(src, \"Slutgiltig basområdetsdata hela länet170706.xlsx\") # Municipality data\n",
    "muncipMap_file = os.path.join(src, \"municipalitiesWithMap.xlsx\")\n",
    "tag_file = os.path.join(src, \"tag.xlsx\")"
   ]
  },
  {
   "cell_type": "code",
   "execution_count": 133,
   "metadata": {
    "collapsed": false
   },
   "outputs": [
    {
     "name": "stdout",
     "output_type": "stream",
     "text": [
      "      basomrade                   name\n",
      "0       1010110             Tre Kronor\n",
      "1       1010120             Skeppsbron\n",
      "2       1010130               Munkbron\n",
      "3       1010140             Stortorget\n",
      "4       1010201     Centralstationen N\n",
      "5       1010202     Centralstationen S\n",
      "6       1010210            Tegelbacken\n",
      "7       1010220            Klara Kyrka\n",
      "8       1010230          Centralposten\n",
      "9       1010240          Oscarsteatern\n",
      "10      1010250             Brunkeberg\n",
      "11      1010260            Hötorgscity\n",
      "12      1010270               Hötorget\n",
      "13      1010280           Sergels Torg\n",
      "14      1010290               Oxtorget\n",
      "15      1010310         Norrlandsgatan\n",
      "16      1010320              Gallerian\n",
      "17      1010330          Norrmalmstorg\n",
      "18      1010340        Kungsträdgården\n",
      "19      1010350           Blasieholmen\n",
      "20      1010360           Skeppsholmen\n",
      "21      1110111          Brunnsgatan N\n",
      "22      1110112          Brunnsgatan S\n",
      "23      1110120         Johannes Kyrka\n",
      "24      1110210     Wenner Gren Center\n",
      "25      1110220          Vanadislunden\n",
      "26      1110230       Surbrunnsområdet\n",
      "27      1110240             Norra Real\n",
      "28      1110250               Elverket\n",
      "29      1120110           Tegnerlunden\n",
      "...         ...                    ...\n",
      "1334    6321770              Glasberga\n",
      "1335    6330210                Karlhov\n",
      "1336    6330220            Södra Ronna\n",
      "1337    6330230            Norra Ronna\n",
      "1338    6330240           Västra Ronna\n",
      "1339    6330250              Lina Hage\n",
      "1340    6330260                   Lina\n",
      "1341    6330370                   Vasa\n",
      "1342    6330380           Norra Geneta\n",
      "1343    6330391          Västra Geneta\n",
      "1344    6330392           Östra Geneta\n",
      "1345    6341410              Pershagen\n",
      "1346    6341420         Södertälje Syd\n",
      "1347    6341430         Tveta glesbygd\n",
      "1348    6341440                 Almnäs\n",
      "1349    6341451                 Hovsjö\n",
      "1350    6341452  Hovsjö industriområde\n",
      "1351    6351200       Enhörna glesbygd\n",
      "1352    6351210                  Ekeby\n",
      "1353    6381100                 Mölnbo\n",
      "1354    6381500      Vårdinge glesbygd\n",
      "1355    6382100                  Järna\n",
      "1356    6382500     Överjärna glesbygd\n",
      "1357    6383000  Ytterjärna församling\n",
      "1358    6391100                   Hölö\n",
      "1359    6391500          Hölö glesbygd\n",
      "1360    6392000       Mörkö församling\n",
      "1361    6410100                Nykvarn\n",
      "1362    6410500       Turinge glesbygd\n",
      "1363    6420000     Taxinge församling\n",
      "\n",
      "[1364 rows x 2 columns]\n",
      "      basomrade                                               name\n",
      "0       1010110                                         Tre Kronor\n",
      "1       1010120                                         Skeppsbron\n",
      "2       1010130                                           Munkbron\n",
      "3       1010140                                         Stortorget\n",
      "4       1010201                                 Centralstationen N\n",
      "5       1010202                                 Centralstationen S\n",
      "6       1010210                                        Tegelbacken\n",
      "7       1010220                                        Klara Kyrka\n",
      "8       1010230                                      Centralposten\n",
      "9       1010240                                      Oscarsteatern\n",
      "10      1010250                                         Brunkeberg\n",
      "11      1010260                                        Hötorgscity\n",
      "12      1010270                                           Hötorget\n",
      "13      1010280                                       Sergels Torg\n",
      "14      1010290                                           Oxtorget\n",
      "15      1010310                                     Norrlandsgatan\n",
      "16      1010320                                          Gallerian\n",
      "17      1010330                                      Norrmalmstorg\n",
      "18      1010340                                    Kungsträdgården\n",
      "19      1010350                                       Blasieholmen\n",
      "20      1010360                                       Skeppsholmen\n",
      "21      1110111                                      Brunnsgatan N\n",
      "22      1110112                                      Brunnsgatan S\n",
      "23      1110120                                     Johannes Kyrka\n",
      "24      1110210                                 Wenner Gren Center\n",
      "25      1110220                                      Vanadislunden\n",
      "26      1110230                                   Surbrunnsområdet\n",
      "27      1110240                                         Norra Real\n",
      "28      1110250                                           Elverket\n",
      "29      1120110                                       Tegnerlunden\n",
      "...         ...                                                ...\n",
      "1392    3710150                         Bangården & Nationalarenan\n",
      "1393    3710420  Karolinska sjukhuset & Nya Karolinska & Solna ...\n",
      "1394    3710580                          Pampas marina & Ingenting\n",
      "1395    3720610         Solna station & Stora Frösunda & Brahelund\n",
      "1396    3720630                         Rudviken & Västra Hagalund\n",
      "1397    3720710                      Råsunda kyrka & Södra Råsunda\n",
      "1398    3720740                     Råsundaskolan & Råsundastadion\n",
      "1399    3810821            Kymlinge & Brotorp & Stora Ursvik Norra\n",
      "1400    3910461        Östra landsbygden & Arninge arbetsomr norra\n",
      "1401    4010120                       Skällsta & Västra Råby Gärde\n",
      "1402    4010500   Kockbacka & Bro glesbygd & Östra Bro & Södra Bro\n",
      "1403    4070170                     Kungsängens glesbygd & Rankhus\n",
      "1404    4210440                         Karlberg Rickeby & Okvista\n",
      "1405    4210540   Östra Vallentuna tätort & Vallentuna glesbygd SO\n",
      "1406    4230500                Södra Lindholmen & Orkesta glesbygd\n",
      "1407    4451231      Södra Runö & Södra RunöTäljö & Södra Runö Näs\n",
      "1408    5140690                        Tullinge glesbygd & Riksten\n",
      "1409    5211440                             Vega & Vega Söderhagen\n",
      "1410    5211450         Kvarntorp & Kvarntorp V & Gamla Nynäsvägen\n",
      "1411    5255150                                 Nedersta & Nödesta\n",
      "1412    5515120  Strand Norr & Tyresö Strand, Centrum & Strand ...\n",
      "1413    5515210              Vissvass & Raksta, Solberga, Bergholm\n",
      "1414    5515220                         Inre Brevik & Yttre Brevik\n",
      "1415    5610500    Gustavsbergs glesbygd & Gustavsbergs glesbygd V\n",
      "1416    5611150                      Södra Gustavsberg & Hästhagen\n",
      "1417    5620510                  Norra Ingarö & Södra Farstalandet\n",
      "1418    5620530                     Långvik-Klacknäset & Skälsmara\n",
      "1419    5630510  Norra Värmdö & Torsby & Evlinge & Saltarö-Skär...\n",
      "1420    5630520  Södra Värmdölandet & Strömma & Bullandö/Älvsal...\n",
      "1421    6310450                 Strömskog västra & Strömskog Östra\n",
      "\n",
      "[1422 rows x 2 columns]\n"
     ]
    },
    {
     "name": "stderr",
     "output_type": "stream",
     "text": [
      "/Users/harpalshergill/anaconda/lib/python3.5/site-packages/ipykernel/__main__.py:8: SettingWithCopyWarning: \n",
      "A value is trying to be set on a copy of a slice from a DataFrame.\n",
      "Try using .loc[row_indexer,col_indexer] = value instead\n",
      "\n",
      "See the caveats in the documentation: http://pandas.pydata.org/pandas-docs/stable/indexing.html#indexing-view-versus-copy\n"
     ]
    }
   ],
   "source": [
    "b_names = pd.read_excel(entities_file_1, skiprows=[0,1,2,3,4,5,6], converters={2010: lambda x: str(x)})\n",
    "\n",
    "b_names.rename(columns={2010: \"basomrade\", \"namn\": \"name\"}, inplace=True)\n",
    "b_names['basomrade'] = b_names['basomrade'].astype(str).astype(int)\n",
    "\n",
    "names1 = b_names.loc[~b_names['BASKOD2000'].isin(b_names['basomrade'])]\n",
    "\n",
    "names1['name'] = names1.groupby(['BASKOD2000'])['name'].transform(lambda x: ' & '.join(x))\n",
    "names1 = names1.drop('basomrade', 1)\n",
    "names1.rename(columns={'BASKOD2000': \"basomrade\"}, inplace=True)\n",
    "names1 = names1.drop_duplicates()\n",
    "\n",
    "\n",
    "b_names = b_names.drop('BASKOD2000',1)\n",
    "\n",
    "b_names = b_names.append(names1, ignore_index=True)\n",
    "\n",
    "\n"
   ]
  },
  {
   "cell_type": "code",
   "execution_count": null,
   "metadata": {
    "collapsed": true
   },
   "outputs": [],
   "source": []
  },
  {
   "cell_type": "code",
   "execution_count": null,
   "metadata": {
    "collapsed": true
   },
   "outputs": [],
   "source": []
  },
  {
   "cell_type": "code",
   "execution_count": 117,
   "metadata": {
    "collapsed": false
   },
   "outputs": [
    {
     "ename": "KeyError",
     "evalue": "2000",
     "output_type": "error",
     "traceback": [
      "\u001b[0;31m---------------------------------------------------------------------------\u001b[0m",
      "\u001b[0;31mKeyError\u001b[0m                                  Traceback (most recent call last)",
      "\u001b[0;32m/Users/harpalshergill/anaconda/lib/python3.5/site-packages/pandas/indexes/base.py\u001b[0m in \u001b[0;36mget_loc\u001b[0;34m(self, key, method, tolerance)\u001b[0m\n\u001b[1;32m   1944\u001b[0m             \u001b[0;32mtry\u001b[0m\u001b[0;34m:\u001b[0m\u001b[0;34m\u001b[0m\u001b[0m\n\u001b[0;32m-> 1945\u001b[0;31m                 \u001b[0;32mreturn\u001b[0m \u001b[0mself\u001b[0m\u001b[0;34m.\u001b[0m\u001b[0m_engine\u001b[0m\u001b[0;34m.\u001b[0m\u001b[0mget_loc\u001b[0m\u001b[0;34m(\u001b[0m\u001b[0mkey\u001b[0m\u001b[0;34m)\u001b[0m\u001b[0;34m\u001b[0m\u001b[0m\n\u001b[0m\u001b[1;32m   1946\u001b[0m             \u001b[0;32mexcept\u001b[0m \u001b[0mKeyError\u001b[0m\u001b[0;34m:\u001b[0m\u001b[0;34m\u001b[0m\u001b[0m\n",
      "\u001b[0;32mpandas/index.pyx\u001b[0m in \u001b[0;36mpandas.index.IndexEngine.get_loc (pandas/index.c:4154)\u001b[0;34m()\u001b[0m\n",
      "\u001b[0;32mpandas/index.pyx\u001b[0m in \u001b[0;36mpandas.index.IndexEngine.get_loc (pandas/index.c:4018)\u001b[0;34m()\u001b[0m\n",
      "\u001b[0;32mpandas/hashtable.pyx\u001b[0m in \u001b[0;36mpandas.hashtable.PyObjectHashTable.get_item (pandas/hashtable.c:12368)\u001b[0;34m()\u001b[0m\n",
      "\u001b[0;32mpandas/hashtable.pyx\u001b[0m in \u001b[0;36mpandas.hashtable.PyObjectHashTable.get_item (pandas/hashtable.c:12322)\u001b[0;34m()\u001b[0m\n",
      "\u001b[0;31mKeyError\u001b[0m: 2000",
      "\nDuring handling of the above exception, another exception occurred:\n",
      "\u001b[0;31mKeyError\u001b[0m                                  Traceback (most recent call last)",
      "\u001b[0;32m<ipython-input-117-363332412685>\u001b[0m in \u001b[0;36m<module>\u001b[0;34m()\u001b[0m\n\u001b[1;32m      2\u001b[0m \u001b[0;34m\u001b[0m\u001b[0m\n\u001b[1;32m      3\u001b[0m \u001b[0mnames1\u001b[0m \u001b[0;34m=\u001b[0m \u001b[0mb_names\u001b[0m\u001b[0;34m[\u001b[0m\u001b[0;34m[\u001b[0m\u001b[0;34m'BASKOD2000'\u001b[0m\u001b[0;34m,\u001b[0m \u001b[0;34m'namn'\u001b[0m\u001b[0;34m]\u001b[0m\u001b[0;34m]\u001b[0m\u001b[0;34m.\u001b[0m\u001b[0mcopy\u001b[0m\u001b[0;34m(\u001b[0m\u001b[0;34m)\u001b[0m\u001b[0;34m\u001b[0m\u001b[0m\n\u001b[0;32m----> 4\u001b[0;31m \u001b[0mnames1\u001b[0m \u001b[0;34m=\u001b[0m \u001b[0mb_names\u001b[0m\u001b[0;34m.\u001b[0m\u001b[0mloc\u001b[0m\u001b[0;34m[\u001b[0m\u001b[0mb_names\u001b[0m\u001b[0;34m[\u001b[0m\u001b[0;34m'BASKOD2000'\u001b[0m\u001b[0;34m]\u001b[0m\u001b[0;34m.\u001b[0m\u001b[0misin\u001b[0m\u001b[0;34m(\u001b[0m\u001b[0mb_names\u001b[0m\u001b[0;34m[\u001b[0m\u001b[0;36m2000\u001b[0m\u001b[0;34m]\u001b[0m\u001b[0;34m)\u001b[0m\u001b[0;34m]\u001b[0m\u001b[0;34m\u001b[0m\u001b[0m\n\u001b[0m\u001b[1;32m      5\u001b[0m \u001b[0;34m\u001b[0m\u001b[0m\n\u001b[1;32m      6\u001b[0m \u001b[0mprint\u001b[0m\u001b[0;34m(\u001b[0m\u001b[0mnames1\u001b[0m\u001b[0;34m)\u001b[0m\u001b[0;34m\u001b[0m\u001b[0m\n",
      "\u001b[0;32m/Users/harpalshergill/anaconda/lib/python3.5/site-packages/pandas/core/frame.py\u001b[0m in \u001b[0;36m__getitem__\u001b[0;34m(self, key)\u001b[0m\n\u001b[1;32m   1995\u001b[0m             \u001b[0;32mreturn\u001b[0m \u001b[0mself\u001b[0m\u001b[0;34m.\u001b[0m\u001b[0m_getitem_multilevel\u001b[0m\u001b[0;34m(\u001b[0m\u001b[0mkey\u001b[0m\u001b[0;34m)\u001b[0m\u001b[0;34m\u001b[0m\u001b[0m\n\u001b[1;32m   1996\u001b[0m         \u001b[0;32melse\u001b[0m\u001b[0;34m:\u001b[0m\u001b[0;34m\u001b[0m\u001b[0m\n\u001b[0;32m-> 1997\u001b[0;31m             \u001b[0;32mreturn\u001b[0m \u001b[0mself\u001b[0m\u001b[0;34m.\u001b[0m\u001b[0m_getitem_column\u001b[0m\u001b[0;34m(\u001b[0m\u001b[0mkey\u001b[0m\u001b[0;34m)\u001b[0m\u001b[0;34m\u001b[0m\u001b[0m\n\u001b[0m\u001b[1;32m   1998\u001b[0m \u001b[0;34m\u001b[0m\u001b[0m\n\u001b[1;32m   1999\u001b[0m     \u001b[0;32mdef\u001b[0m \u001b[0m_getitem_column\u001b[0m\u001b[0;34m(\u001b[0m\u001b[0mself\u001b[0m\u001b[0;34m,\u001b[0m \u001b[0mkey\u001b[0m\u001b[0;34m)\u001b[0m\u001b[0;34m:\u001b[0m\u001b[0;34m\u001b[0m\u001b[0m\n",
      "\u001b[0;32m/Users/harpalshergill/anaconda/lib/python3.5/site-packages/pandas/core/frame.py\u001b[0m in \u001b[0;36m_getitem_column\u001b[0;34m(self, key)\u001b[0m\n\u001b[1;32m   2002\u001b[0m         \u001b[0;31m# get column\u001b[0m\u001b[0;34m\u001b[0m\u001b[0;34m\u001b[0m\u001b[0m\n\u001b[1;32m   2003\u001b[0m         \u001b[0;32mif\u001b[0m \u001b[0mself\u001b[0m\u001b[0;34m.\u001b[0m\u001b[0mcolumns\u001b[0m\u001b[0;34m.\u001b[0m\u001b[0mis_unique\u001b[0m\u001b[0;34m:\u001b[0m\u001b[0;34m\u001b[0m\u001b[0m\n\u001b[0;32m-> 2004\u001b[0;31m             \u001b[0;32mreturn\u001b[0m \u001b[0mself\u001b[0m\u001b[0;34m.\u001b[0m\u001b[0m_get_item_cache\u001b[0m\u001b[0;34m(\u001b[0m\u001b[0mkey\u001b[0m\u001b[0;34m)\u001b[0m\u001b[0;34m\u001b[0m\u001b[0m\n\u001b[0m\u001b[1;32m   2005\u001b[0m \u001b[0;34m\u001b[0m\u001b[0m\n\u001b[1;32m   2006\u001b[0m         \u001b[0;31m# duplicate columns & possible reduce dimensionality\u001b[0m\u001b[0;34m\u001b[0m\u001b[0;34m\u001b[0m\u001b[0m\n",
      "\u001b[0;32m/Users/harpalshergill/anaconda/lib/python3.5/site-packages/pandas/core/generic.py\u001b[0m in \u001b[0;36m_get_item_cache\u001b[0;34m(self, item)\u001b[0m\n\u001b[1;32m   1348\u001b[0m         \u001b[0mres\u001b[0m \u001b[0;34m=\u001b[0m \u001b[0mcache\u001b[0m\u001b[0;34m.\u001b[0m\u001b[0mget\u001b[0m\u001b[0;34m(\u001b[0m\u001b[0mitem\u001b[0m\u001b[0;34m)\u001b[0m\u001b[0;34m\u001b[0m\u001b[0m\n\u001b[1;32m   1349\u001b[0m         \u001b[0;32mif\u001b[0m \u001b[0mres\u001b[0m \u001b[0;32mis\u001b[0m \u001b[0;32mNone\u001b[0m\u001b[0;34m:\u001b[0m\u001b[0;34m\u001b[0m\u001b[0m\n\u001b[0;32m-> 1350\u001b[0;31m             \u001b[0mvalues\u001b[0m \u001b[0;34m=\u001b[0m \u001b[0mself\u001b[0m\u001b[0;34m.\u001b[0m\u001b[0m_data\u001b[0m\u001b[0;34m.\u001b[0m\u001b[0mget\u001b[0m\u001b[0;34m(\u001b[0m\u001b[0mitem\u001b[0m\u001b[0;34m)\u001b[0m\u001b[0;34m\u001b[0m\u001b[0m\n\u001b[0m\u001b[1;32m   1351\u001b[0m             \u001b[0mres\u001b[0m \u001b[0;34m=\u001b[0m \u001b[0mself\u001b[0m\u001b[0;34m.\u001b[0m\u001b[0m_box_item_values\u001b[0m\u001b[0;34m(\u001b[0m\u001b[0mitem\u001b[0m\u001b[0;34m,\u001b[0m \u001b[0mvalues\u001b[0m\u001b[0;34m)\u001b[0m\u001b[0;34m\u001b[0m\u001b[0m\n\u001b[1;32m   1352\u001b[0m             \u001b[0mcache\u001b[0m\u001b[0;34m[\u001b[0m\u001b[0mitem\u001b[0m\u001b[0;34m]\u001b[0m \u001b[0;34m=\u001b[0m \u001b[0mres\u001b[0m\u001b[0;34m\u001b[0m\u001b[0m\n",
      "\u001b[0;32m/Users/harpalshergill/anaconda/lib/python3.5/site-packages/pandas/core/internals.py\u001b[0m in \u001b[0;36mget\u001b[0;34m(self, item, fastpath)\u001b[0m\n\u001b[1;32m   3288\u001b[0m \u001b[0;34m\u001b[0m\u001b[0m\n\u001b[1;32m   3289\u001b[0m             \u001b[0;32mif\u001b[0m \u001b[0;32mnot\u001b[0m \u001b[0misnull\u001b[0m\u001b[0;34m(\u001b[0m\u001b[0mitem\u001b[0m\u001b[0;34m)\u001b[0m\u001b[0;34m:\u001b[0m\u001b[0;34m\u001b[0m\u001b[0m\n\u001b[0;32m-> 3290\u001b[0;31m                 \u001b[0mloc\u001b[0m \u001b[0;34m=\u001b[0m \u001b[0mself\u001b[0m\u001b[0;34m.\u001b[0m\u001b[0mitems\u001b[0m\u001b[0;34m.\u001b[0m\u001b[0mget_loc\u001b[0m\u001b[0;34m(\u001b[0m\u001b[0mitem\u001b[0m\u001b[0;34m)\u001b[0m\u001b[0;34m\u001b[0m\u001b[0m\n\u001b[0m\u001b[1;32m   3291\u001b[0m             \u001b[0;32melse\u001b[0m\u001b[0;34m:\u001b[0m\u001b[0;34m\u001b[0m\u001b[0m\n\u001b[1;32m   3292\u001b[0m                 \u001b[0mindexer\u001b[0m \u001b[0;34m=\u001b[0m \u001b[0mnp\u001b[0m\u001b[0;34m.\u001b[0m\u001b[0marange\u001b[0m\u001b[0;34m(\u001b[0m\u001b[0mlen\u001b[0m\u001b[0;34m(\u001b[0m\u001b[0mself\u001b[0m\u001b[0;34m.\u001b[0m\u001b[0mitems\u001b[0m\u001b[0;34m)\u001b[0m\u001b[0;34m)\u001b[0m\u001b[0;34m[\u001b[0m\u001b[0misnull\u001b[0m\u001b[0;34m(\u001b[0m\u001b[0mself\u001b[0m\u001b[0;34m.\u001b[0m\u001b[0mitems\u001b[0m\u001b[0;34m)\u001b[0m\u001b[0;34m]\u001b[0m\u001b[0;34m\u001b[0m\u001b[0m\n",
      "\u001b[0;32m/Users/harpalshergill/anaconda/lib/python3.5/site-packages/pandas/indexes/base.py\u001b[0m in \u001b[0;36mget_loc\u001b[0;34m(self, key, method, tolerance)\u001b[0m\n\u001b[1;32m   1945\u001b[0m                 \u001b[0;32mreturn\u001b[0m \u001b[0mself\u001b[0m\u001b[0;34m.\u001b[0m\u001b[0m_engine\u001b[0m\u001b[0;34m.\u001b[0m\u001b[0mget_loc\u001b[0m\u001b[0;34m(\u001b[0m\u001b[0mkey\u001b[0m\u001b[0;34m)\u001b[0m\u001b[0;34m\u001b[0m\u001b[0m\n\u001b[1;32m   1946\u001b[0m             \u001b[0;32mexcept\u001b[0m \u001b[0mKeyError\u001b[0m\u001b[0;34m:\u001b[0m\u001b[0;34m\u001b[0m\u001b[0m\n\u001b[0;32m-> 1947\u001b[0;31m                 \u001b[0;32mreturn\u001b[0m \u001b[0mself\u001b[0m\u001b[0;34m.\u001b[0m\u001b[0m_engine\u001b[0m\u001b[0;34m.\u001b[0m\u001b[0mget_loc\u001b[0m\u001b[0;34m(\u001b[0m\u001b[0mself\u001b[0m\u001b[0;34m.\u001b[0m\u001b[0m_maybe_cast_indexer\u001b[0m\u001b[0;34m(\u001b[0m\u001b[0mkey\u001b[0m\u001b[0;34m)\u001b[0m\u001b[0;34m)\u001b[0m\u001b[0;34m\u001b[0m\u001b[0m\n\u001b[0m\u001b[1;32m   1948\u001b[0m \u001b[0;34m\u001b[0m\u001b[0m\n\u001b[1;32m   1949\u001b[0m         \u001b[0mindexer\u001b[0m \u001b[0;34m=\u001b[0m \u001b[0mself\u001b[0m\u001b[0;34m.\u001b[0m\u001b[0mget_indexer\u001b[0m\u001b[0;34m(\u001b[0m\u001b[0;34m[\u001b[0m\u001b[0mkey\u001b[0m\u001b[0;34m]\u001b[0m\u001b[0;34m,\u001b[0m \u001b[0mmethod\u001b[0m\u001b[0;34m=\u001b[0m\u001b[0mmethod\u001b[0m\u001b[0;34m,\u001b[0m \u001b[0mtolerance\u001b[0m\u001b[0;34m=\u001b[0m\u001b[0mtolerance\u001b[0m\u001b[0;34m)\u001b[0m\u001b[0;34m\u001b[0m\u001b[0m\n",
      "\u001b[0;32mpandas/index.pyx\u001b[0m in \u001b[0;36mpandas.index.IndexEngine.get_loc (pandas/index.c:4154)\u001b[0;34m()\u001b[0m\n",
      "\u001b[0;32mpandas/index.pyx\u001b[0m in \u001b[0;36mpandas.index.IndexEngine.get_loc (pandas/index.c:4018)\u001b[0;34m()\u001b[0m\n",
      "\u001b[0;32mpandas/hashtable.pyx\u001b[0m in \u001b[0;36mpandas.hashtable.PyObjectHashTable.get_item (pandas/hashtable.c:12368)\u001b[0;34m()\u001b[0m\n",
      "\u001b[0;32mpandas/hashtable.pyx\u001b[0m in \u001b[0;36mpandas.hashtable.PyObjectHashTable.get_item (pandas/hashtable.c:12322)\u001b[0;34m()\u001b[0m\n",
      "\u001b[0;31mKeyError\u001b[0m: 2000"
     ]
    }
   ],
   "source": [
    "b_names = pd.read_excel(entities_file_1, skiprows=[0,1,2,3,4,5,6], converters={2010: lambda x: str(x)})\n",
    "print(b_names.columns)\n",
    "names1 = b_names[['BASKOD2000', 'namn']].copy()\n",
    "names1 = b_names.loc[~b_names['BASKOD2000'].isin(b_names[2000])]\n",
    "\n",
    "print(names1)\n",
    "\n",
    "names1['namn1'] = b_names.groupby(['BASKOD2000'])['namn'].transform(lambda x: ' & '.join(x))\n",
    "\n",
    "names1 = names1.loc[names1['namn'] != names1['namn1']]\n",
    "names1 = names1.drop('namn', 1)\n",
    "\n",
    "\n",
    "names1 = names1.drop_duplicates()\n",
    "\n",
    "\n",
    "\n",
    "# names1.rename(columns={'BASKOD2000': \"basomrade\", \"namn1\": \"name\"}, inplace=True)\n",
    "\n",
    "# b_names = b_names.drop('BASKOD2000',1)\n",
    "\n",
    "# b_names.rename(columns={2010: \"basomrade\", \"namn\": \"name\"}, inplace=True)\n",
    "\n",
    "# #print(b_names.columns)\n",
    "\n",
    "# newDT = names1.loc[~names1['basomrade'].isin(b_names['basomrade'])]\n",
    "\n",
    "# b_names['basomrade'] = b_names['basomrade'].astype(str).astype(int)\n",
    "# b_names['basomrade'].dtype\n",
    "# b_names = b_names.append(newDT, ignore_index=True)\n",
    "\n"
   ]
  },
  {
   "cell_type": "code",
   "execution_count": 112,
   "metadata": {
    "collapsed": false
   },
   "outputs": [
    {
     "data": {
      "text/html": [
       "<div>\n",
       "<table border=\"1\" class=\"dataframe\">\n",
       "  <thead>\n",
       "    <tr style=\"text-align: right;\">\n",
       "      <th></th>\n",
       "      <th>basomrade</th>\n",
       "      <th>name</th>\n",
       "    </tr>\n",
       "  </thead>\n",
       "  <tbody>\n",
       "    <tr>\n",
       "      <th>46</th>\n",
       "      <td>2260120</td>\n",
       "      <td>Centrala Akalla</td>\n",
       "    </tr>\n",
       "  </tbody>\n",
       "</table>\n",
       "</div>"
      ],
      "text/plain": [
       "    basomrade             name\n",
       "46    2260120  Centrala Akalla"
      ]
     },
     "execution_count": 112,
     "metadata": {},
     "output_type": "execute_result"
    }
   ],
   "source": [
    "names1.loc[names1['basomrade'] == 2260120]"
   ]
  },
  {
   "cell_type": "code",
   "execution_count": 83,
   "metadata": {
    "collapsed": false
   },
   "outputs": [
    {
     "data": {
      "text/html": [
       "<div>\n",
       "<table border=\"1\" class=\"dataframe\">\n",
       "  <thead>\n",
       "    <tr style=\"text-align: right;\">\n",
       "      <th></th>\n",
       "      <th>BASKOD2000</th>\n",
       "      <th>BASKOD2000_x</th>\n",
       "      <th>namn_x</th>\n",
       "      <th>namn1</th>\n",
       "      <th>2010</th>\n",
       "      <th>namn_y</th>\n",
       "      <th>BASKOD2000_y</th>\n",
       "    </tr>\n",
       "  </thead>\n",
       "  <tbody>\n",
       "    <tr>\n",
       "      <th>0</th>\n",
       "      <td>1010110</td>\n",
       "      <td>1010110</td>\n",
       "      <td>Tre Kronor</td>\n",
       "      <td>Tre Kronor</td>\n",
       "      <td>NaN</td>\n",
       "      <td>NaN</td>\n",
       "      <td>NaN</td>\n",
       "    </tr>\n",
       "  </tbody>\n",
       "</table>\n",
       "</div>"
      ],
      "text/plain": [
       "   BASKOD2000  BASKOD2000_x      namn_x       namn1 2010 namn_y  BASKOD2000_y\n",
       "0     1010110       1010110  Tre Kronor  Tre Kronor  NaN    NaN           NaN"
      ]
     },
     "execution_count": 83,
     "metadata": {},
     "output_type": "execute_result"
    }
   ],
   "source": [
    "names1.loc[names1['BASKOD2000'] == 1010110]"
   ]
  },
  {
   "cell_type": "code",
   "execution_count": 41,
   "metadata": {
    "collapsed": false
   },
   "outputs": [
    {
     "data": {
      "text/html": [
       "<div>\n",
       "<table border=\"1\" class=\"dataframe\">\n",
       "  <thead>\n",
       "    <tr style=\"text-align: right;\">\n",
       "      <th></th>\n",
       "      <th>basomrade</th>\n",
       "      <th>name</th>\n",
       "    </tr>\n",
       "  </thead>\n",
       "  <tbody>\n",
       "    <tr>\n",
       "      <th>50</th>\n",
       "      <td>1140210</td>\n",
       "      <td>Norra Station 1 &amp; Norra Station 2</td>\n",
       "    </tr>\n",
       "  </tbody>\n",
       "</table>\n",
       "</div>"
      ],
      "text/plain": [
       "    basomrade                               name\n",
       "50    1140210  Norra Station 1 & Norra Station 2"
      ]
     },
     "execution_count": 41,
     "metadata": {},
     "output_type": "execute_result"
    }
   ],
   "source": [
    "newDT['basomrade'].dtype\n",
    "newDT.loc[newDT['basomrade'] == 1140210]\n"
   ]
  },
  {
   "cell_type": "code",
   "execution_count": 45,
   "metadata": {
    "collapsed": false
   },
   "outputs": [
    {
     "data": {
      "text/plain": [
       "dtype('int64')"
      ]
     },
     "execution_count": 45,
     "metadata": {},
     "output_type": "execute_result"
    }
   ],
   "source": [
    "\n"
   ]
  },
  {
   "cell_type": "code",
   "execution_count": null,
   "metadata": {
    "collapsed": true
   },
   "outputs": [],
   "source": []
  }
 ],
 "metadata": {
  "kernelspec": {
   "display_name": "Python [conda root]",
   "language": "python",
   "name": "conda-root-py"
  },
  "language_info": {
   "codemirror_mode": {
    "name": "ipython",
    "version": 3
   },
   "file_extension": ".py",
   "mimetype": "text/x-python",
   "name": "python",
   "nbconvert_exporter": "python",
   "pygments_lexer": "ipython3",
   "version": "3.5.2"
  }
 },
 "nbformat": 4,
 "nbformat_minor": 1
}
